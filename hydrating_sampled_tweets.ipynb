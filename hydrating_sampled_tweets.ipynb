{
 "cells": [
  {
   "cell_type": "code",
   "execution_count": 52,
   "id": "903326de",
   "metadata": {},
   "outputs": [],
   "source": [
    "import requests\n",
    "import pandas as pd\n",
    "from csv import writer\n",
    "import json\n",
    "import time\n",
    "import glob\n",
    "import os\n",
    "from pathlib import Path\n",
    "import tqdm\n",
    "from twarc import Twarc\n",
    "from nltk.tokenize import TweetTokenizer\n",
    "import numpy as np\n",
    "from random import sample\n",
    "from collections import defaultdict,OrderedDict\n",
    "from tqdm import tqdm\n",
    "from os import listdir, makedirs, remove\n",
    "from os.path import isfile, join, exists\n",
    "\n",
    "tk = TweetTokenizer()\n",
    "tw = Twarc('asotxsa5cKuAeWjdYhZpABmN6', \\\n",
    "           'yhmMnNyE5bMx707yTcuS70NEoyFjvaPJnUCki1wHJG18XzLKYl', \\\n",
    "           '1116108383051046913-uzhQgRjVNAakb6pYKYUTCvW09donFA', \\\n",
    "           'XrHro3QvkuE0ivYXvQj9jufLDqk1EBNTcBnelXQ7hoM6P')\n",
    "path = str(Path.cwd()) + '/data/'"
   ]
  },
  {
   "cell_type": "code",
   "execution_count": 4,
   "id": "92e1a5a9",
   "metadata": {},
   "outputs": [],
   "source": [
    "fraction_we_need_to_sample = np.load(\"fraction_we_need_to_sample.npy\", allow_pickle=True).tolist()"
   ]
  },
  {
   "cell_type": "code",
   "execution_count": 5,
   "id": "847fbd12",
   "metadata": {},
   "outputs": [],
   "source": [
    "months = ['ukraine-russia-master/2022-02', 'ukraine-russia-master/2022-03', 'ukraine-russia-master/2022-04',\n",
    "         'ukraine-russia-master/2022-05', 'ukraine-russia-master/2022-06', 'ukraine-russia-master/2022-07',\n",
    "         'ukraine-russia-master/2022-08', 'ukraine-russia-master/2022-09', 'ukraine-russia-master/2022-10']"
   ]
  },
  {
   "cell_type": "code",
   "execution_count": 7,
   "id": "950ee008",
   "metadata": {},
   "outputs": [
    {
     "name": "stderr",
     "output_type": "stream",
     "text": [
      "100%|█████████████████████████████████████████████| 9/9 [02:40<00:00, 17.83s/it]\n"
     ]
    }
   ],
   "source": [
    "tweet_ids_per_day = defaultdict(list)\n",
    "for month in tqdm(months):\n",
    "    path = month\n",
    "    month_num = month[22:]\n",
    "    files = [f for f in listdir(path) if (isfile(join(path, f)))]\n",
    "    for file in files:\n",
    "        with open(join(path, file), 'r') as fp:\n",
    "            for line in fp:\n",
    "                date = file[20:-7]\n",
    "                tweet_ids_per_day[date].append(line)\n",
    "    tweet_ids_per_day_ordered = OrderedDict(sorted(tweet_ids_per_day.items()))\n",
    "    \n",
    "    tweet_ids_per_day_sampled = defaultdict(list)\n",
    "    for day, tweet_ids in (tweet_ids_per_day_ordered.items()):\n",
    "        tweet_ids_per_day_sampled[day] = sample(tweet_ids,fraction_we_need_to_sample[day])   \n",
    "    \n",
    "    np.save(\"sampled_tweet_ids/tweet_ids_per_day_sampled_\"+str(month_num)+\".npy\", tweet_ids_per_day_sampled)\n",
    "    del tweet_ids_per_day_ordered\n",
    "    del tweet_ids_per_day\n",
    "    del tweet_ids_per_day_sampled\n",
    "    tweet_ids_per_day = defaultdict(list)"
   ]
  },
  {
   "cell_type": "code",
   "execution_count": null,
   "id": "b7f887a3",
   "metadata": {},
   "outputs": [],
   "source": [
    "path = 'sampled_tweet_ids'\n",
    "files = [f for f in listdir(path) if (isfile(join(path, f)))]\n",
    "files.sort()\n",
    "for file in tqdm(files):\n",
    "    tweet_ids_month = np.load(join(path, file), allow_pickle=True).tolist()\n",
    "    for day, tweet_ids in tweet_ids_month.items():\n",
    "        output = file[26:-4] + \"-\" + day[3:] + \".txt\"\n",
    "        with open(os.path.join(path, output), 'w') as f:\n",
    "            for tweet_id in tweet_ids:\n",
    "                f.write(f\"{tweet_id}\\n\")"
   ]
  },
  {
   "cell_type": "code",
   "execution_count": 39,
   "id": "46114ca3",
   "metadata": {},
   "outputs": [],
   "source": [
    "import csv\n",
    "def hydrate(path, file):\n",
    "    list_of_tweets = []\n",
    "    for tweet in tw.hydrate(open(path)):\n",
    "        list_of_tweets.append(tweet)\n",
    "    np.save(file, list_of_tweets)"
   ]
  },
  {
   "cell_type": "code",
   "execution_count": 40,
   "id": "6d328087",
   "metadata": {},
   "outputs": [],
   "source": [
    "import glob"
   ]
  },
  {
   "cell_type": "code",
   "execution_count": 41,
   "id": "81215015",
   "metadata": {},
   "outputs": [],
   "source": [
    "files = glob.glob('sampled_tweet_ids/*[0-9].txt')"
   ]
  },
  {
   "cell_type": "code",
   "execution_count": 48,
   "id": "f428c213",
   "metadata": {},
   "outputs": [],
   "source": [
    "files.sort()"
   ]
  },
  {
   "cell_type": "code",
   "execution_count": 49,
   "id": "82d0589f",
   "metadata": {},
   "outputs": [
    {
     "data": {
      "text/plain": [
       "['sampled_tweet_ids/2022-02-22.txt',\n",
       " 'sampled_tweet_ids/2022-02-23.txt',\n",
       " 'sampled_tweet_ids/2022-02-24.txt',\n",
       " 'sampled_tweet_ids/2022-02-25.txt',\n",
       " 'sampled_tweet_ids/2022-02-26.txt',\n",
       " 'sampled_tweet_ids/2022-02-27.txt',\n",
       " 'sampled_tweet_ids/2022-02-28.txt',\n",
       " 'sampled_tweet_ids/2022-03-01.txt',\n",
       " 'sampled_tweet_ids/2022-03-02.txt',\n",
       " 'sampled_tweet_ids/2022-03-03.txt',\n",
       " 'sampled_tweet_ids/2022-03-04.txt',\n",
       " 'sampled_tweet_ids/2022-03-05.txt',\n",
       " 'sampled_tweet_ids/2022-03-06.txt',\n",
       " 'sampled_tweet_ids/2022-03-07.txt',\n",
       " 'sampled_tweet_ids/2022-03-08.txt',\n",
       " 'sampled_tweet_ids/2022-03-09.txt',\n",
       " 'sampled_tweet_ids/2022-03-10.txt',\n",
       " 'sampled_tweet_ids/2022-03-11.txt',\n",
       " 'sampled_tweet_ids/2022-03-12.txt',\n",
       " 'sampled_tweet_ids/2022-03-13.txt',\n",
       " 'sampled_tweet_ids/2022-03-14.txt',\n",
       " 'sampled_tweet_ids/2022-03-15.txt',\n",
       " 'sampled_tweet_ids/2022-03-16.txt',\n",
       " 'sampled_tweet_ids/2022-03-17.txt',\n",
       " 'sampled_tweet_ids/2022-03-18.txt',\n",
       " 'sampled_tweet_ids/2022-03-19.txt',\n",
       " 'sampled_tweet_ids/2022-03-20.txt',\n",
       " 'sampled_tweet_ids/2022-03-21.txt',\n",
       " 'sampled_tweet_ids/2022-03-22.txt',\n",
       " 'sampled_tweet_ids/2022-03-23.txt',\n",
       " 'sampled_tweet_ids/2022-03-24.txt',\n",
       " 'sampled_tweet_ids/2022-03-25.txt',\n",
       " 'sampled_tweet_ids/2022-03-26.txt',\n",
       " 'sampled_tweet_ids/2022-03-27.txt',\n",
       " 'sampled_tweet_ids/2022-03-28.txt',\n",
       " 'sampled_tweet_ids/2022-03-29.txt',\n",
       " 'sampled_tweet_ids/2022-03-30.txt',\n",
       " 'sampled_tweet_ids/2022-03-31.txt',\n",
       " 'sampled_tweet_ids/2022-04-01.txt',\n",
       " 'sampled_tweet_ids/2022-04-02.txt',\n",
       " 'sampled_tweet_ids/2022-04-03.txt',\n",
       " 'sampled_tweet_ids/2022-04-04.txt',\n",
       " 'sampled_tweet_ids/2022-04-05.txt',\n",
       " 'sampled_tweet_ids/2022-04-06.txt',\n",
       " 'sampled_tweet_ids/2022-04-07.txt',\n",
       " 'sampled_tweet_ids/2022-04-08.txt',\n",
       " 'sampled_tweet_ids/2022-04-09.txt',\n",
       " 'sampled_tweet_ids/2022-04-10.txt',\n",
       " 'sampled_tweet_ids/2022-04-11.txt',\n",
       " 'sampled_tweet_ids/2022-04-12.txt',\n",
       " 'sampled_tweet_ids/2022-04-13.txt',\n",
       " 'sampled_tweet_ids/2022-04-14.txt',\n",
       " 'sampled_tweet_ids/2022-04-15.txt',\n",
       " 'sampled_tweet_ids/2022-04-16.txt',\n",
       " 'sampled_tweet_ids/2022-04-17.txt',\n",
       " 'sampled_tweet_ids/2022-04-18.txt',\n",
       " 'sampled_tweet_ids/2022-04-19.txt',\n",
       " 'sampled_tweet_ids/2022-04-20.txt',\n",
       " 'sampled_tweet_ids/2022-04-21.txt',\n",
       " 'sampled_tweet_ids/2022-04-22.txt',\n",
       " 'sampled_tweet_ids/2022-04-23.txt',\n",
       " 'sampled_tweet_ids/2022-04-24.txt',\n",
       " 'sampled_tweet_ids/2022-04-25.txt',\n",
       " 'sampled_tweet_ids/2022-04-26.txt',\n",
       " 'sampled_tweet_ids/2022-04-27.txt',\n",
       " 'sampled_tweet_ids/2022-04-28.txt',\n",
       " 'sampled_tweet_ids/2022-04-29.txt',\n",
       " 'sampled_tweet_ids/2022-04-30.txt',\n",
       " 'sampled_tweet_ids/2022-05-01.txt',\n",
       " 'sampled_tweet_ids/2022-05-02.txt',\n",
       " 'sampled_tweet_ids/2022-05-03.txt',\n",
       " 'sampled_tweet_ids/2022-05-04.txt',\n",
       " 'sampled_tweet_ids/2022-05-05.txt',\n",
       " 'sampled_tweet_ids/2022-05-06.txt',\n",
       " 'sampled_tweet_ids/2022-05-07.txt',\n",
       " 'sampled_tweet_ids/2022-05-08.txt',\n",
       " 'sampled_tweet_ids/2022-05-09.txt',\n",
       " 'sampled_tweet_ids/2022-05-10.txt',\n",
       " 'sampled_tweet_ids/2022-05-11.txt',\n",
       " 'sampled_tweet_ids/2022-05-12.txt',\n",
       " 'sampled_tweet_ids/2022-05-13.txt',\n",
       " 'sampled_tweet_ids/2022-05-14.txt',\n",
       " 'sampled_tweet_ids/2022-05-15.txt',\n",
       " 'sampled_tweet_ids/2022-05-16.txt',\n",
       " 'sampled_tweet_ids/2022-05-17.txt',\n",
       " 'sampled_tweet_ids/2022-05-18.txt',\n",
       " 'sampled_tweet_ids/2022-05-19.txt',\n",
       " 'sampled_tweet_ids/2022-05-20.txt',\n",
       " 'sampled_tweet_ids/2022-05-21.txt',\n",
       " 'sampled_tweet_ids/2022-05-22.txt',\n",
       " 'sampled_tweet_ids/2022-05-23.txt',\n",
       " 'sampled_tweet_ids/2022-05-24.txt',\n",
       " 'sampled_tweet_ids/2022-05-25.txt',\n",
       " 'sampled_tweet_ids/2022-05-26.txt',\n",
       " 'sampled_tweet_ids/2022-05-27.txt',\n",
       " 'sampled_tweet_ids/2022-05-28.txt',\n",
       " 'sampled_tweet_ids/2022-05-29.txt',\n",
       " 'sampled_tweet_ids/2022-05-30.txt',\n",
       " 'sampled_tweet_ids/2022-05-31.txt',\n",
       " 'sampled_tweet_ids/2022-06-01.txt',\n",
       " 'sampled_tweet_ids/2022-06-02.txt',\n",
       " 'sampled_tweet_ids/2022-06-03.txt',\n",
       " 'sampled_tweet_ids/2022-06-04.txt',\n",
       " 'sampled_tweet_ids/2022-06-05.txt',\n",
       " 'sampled_tweet_ids/2022-06-06.txt',\n",
       " 'sampled_tweet_ids/2022-06-07.txt',\n",
       " 'sampled_tweet_ids/2022-06-08.txt',\n",
       " 'sampled_tweet_ids/2022-06-09.txt',\n",
       " 'sampled_tweet_ids/2022-06-10.txt',\n",
       " 'sampled_tweet_ids/2022-06-11.txt',\n",
       " 'sampled_tweet_ids/2022-06-12.txt',\n",
       " 'sampled_tweet_ids/2022-06-13.txt',\n",
       " 'sampled_tweet_ids/2022-06-14.txt',\n",
       " 'sampled_tweet_ids/2022-06-15.txt',\n",
       " 'sampled_tweet_ids/2022-06-16.txt',\n",
       " 'sampled_tweet_ids/2022-06-17.txt',\n",
       " 'sampled_tweet_ids/2022-06-18.txt',\n",
       " 'sampled_tweet_ids/2022-06-19.txt',\n",
       " 'sampled_tweet_ids/2022-06-20.txt',\n",
       " 'sampled_tweet_ids/2022-06-21.txt',\n",
       " 'sampled_tweet_ids/2022-06-22.txt',\n",
       " 'sampled_tweet_ids/2022-06-23.txt',\n",
       " 'sampled_tweet_ids/2022-06-24.txt',\n",
       " 'sampled_tweet_ids/2022-06-25.txt',\n",
       " 'sampled_tweet_ids/2022-06-26.txt',\n",
       " 'sampled_tweet_ids/2022-06-27.txt',\n",
       " 'sampled_tweet_ids/2022-06-28.txt',\n",
       " 'sampled_tweet_ids/2022-06-29.txt',\n",
       " 'sampled_tweet_ids/2022-06-30.txt',\n",
       " 'sampled_tweet_ids/2022-07-01.txt',\n",
       " 'sampled_tweet_ids/2022-07-02.txt',\n",
       " 'sampled_tweet_ids/2022-07-03.txt',\n",
       " 'sampled_tweet_ids/2022-07-04.txt',\n",
       " 'sampled_tweet_ids/2022-07-05.txt',\n",
       " 'sampled_tweet_ids/2022-07-06.txt',\n",
       " 'sampled_tweet_ids/2022-07-07.txt',\n",
       " 'sampled_tweet_ids/2022-07-08.txt',\n",
       " 'sampled_tweet_ids/2022-07-09.txt',\n",
       " 'sampled_tweet_ids/2022-07-10.txt',\n",
       " 'sampled_tweet_ids/2022-07-11.txt',\n",
       " 'sampled_tweet_ids/2022-07-12.txt',\n",
       " 'sampled_tweet_ids/2022-07-13.txt',\n",
       " 'sampled_tweet_ids/2022-07-14.txt',\n",
       " 'sampled_tweet_ids/2022-07-15.txt',\n",
       " 'sampled_tweet_ids/2022-07-16.txt',\n",
       " 'sampled_tweet_ids/2022-07-17.txt',\n",
       " 'sampled_tweet_ids/2022-07-18.txt',\n",
       " 'sampled_tweet_ids/2022-07-19.txt',\n",
       " 'sampled_tweet_ids/2022-07-20.txt',\n",
       " 'sampled_tweet_ids/2022-07-21.txt',\n",
       " 'sampled_tweet_ids/2022-07-22.txt',\n",
       " 'sampled_tweet_ids/2022-07-23.txt',\n",
       " 'sampled_tweet_ids/2022-07-24.txt',\n",
       " 'sampled_tweet_ids/2022-07-25.txt',\n",
       " 'sampled_tweet_ids/2022-07-26.txt',\n",
       " 'sampled_tweet_ids/2022-07-27.txt',\n",
       " 'sampled_tweet_ids/2022-07-28.txt',\n",
       " 'sampled_tweet_ids/2022-07-29.txt',\n",
       " 'sampled_tweet_ids/2022-07-30.txt',\n",
       " 'sampled_tweet_ids/2022-07-31.txt',\n",
       " 'sampled_tweet_ids/2022-08-01.txt',\n",
       " 'sampled_tweet_ids/2022-08-02.txt',\n",
       " 'sampled_tweet_ids/2022-08-03.txt',\n",
       " 'sampled_tweet_ids/2022-08-04.txt',\n",
       " 'sampled_tweet_ids/2022-08-05.txt',\n",
       " 'sampled_tweet_ids/2022-08-06.txt',\n",
       " 'sampled_tweet_ids/2022-08-07.txt',\n",
       " 'sampled_tweet_ids/2022-08-08.txt',\n",
       " 'sampled_tweet_ids/2022-08-09.txt',\n",
       " 'sampled_tweet_ids/2022-08-10.txt',\n",
       " 'sampled_tweet_ids/2022-08-11.txt',\n",
       " 'sampled_tweet_ids/2022-08-12.txt',\n",
       " 'sampled_tweet_ids/2022-08-13.txt',\n",
       " 'sampled_tweet_ids/2022-08-14.txt',\n",
       " 'sampled_tweet_ids/2022-08-15.txt',\n",
       " 'sampled_tweet_ids/2022-08-16.txt',\n",
       " 'sampled_tweet_ids/2022-08-17.txt',\n",
       " 'sampled_tweet_ids/2022-08-18.txt',\n",
       " 'sampled_tweet_ids/2022-08-19.txt',\n",
       " 'sampled_tweet_ids/2022-08-20.txt',\n",
       " 'sampled_tweet_ids/2022-08-21.txt',\n",
       " 'sampled_tweet_ids/2022-08-22.txt',\n",
       " 'sampled_tweet_ids/2022-08-23.txt',\n",
       " 'sampled_tweet_ids/2022-08-24.txt',\n",
       " 'sampled_tweet_ids/2022-08-25.txt',\n",
       " 'sampled_tweet_ids/2022-08-26.txt',\n",
       " 'sampled_tweet_ids/2022-08-27.txt',\n",
       " 'sampled_tweet_ids/2022-08-28.txt',\n",
       " 'sampled_tweet_ids/2022-08-29.txt',\n",
       " 'sampled_tweet_ids/2022-08-30.txt',\n",
       " 'sampled_tweet_ids/2022-08-31.txt',\n",
       " 'sampled_tweet_ids/2022-09-01.txt',\n",
       " 'sampled_tweet_ids/2022-09-02.txt',\n",
       " 'sampled_tweet_ids/2022-09-03.txt',\n",
       " 'sampled_tweet_ids/2022-09-04.txt',\n",
       " 'sampled_tweet_ids/2022-09-05.txt',\n",
       " 'sampled_tweet_ids/2022-09-06.txt',\n",
       " 'sampled_tweet_ids/2022-09-07.txt',\n",
       " 'sampled_tweet_ids/2022-09-08.txt',\n",
       " 'sampled_tweet_ids/2022-09-09.txt',\n",
       " 'sampled_tweet_ids/2022-09-10.txt',\n",
       " 'sampled_tweet_ids/2022-09-11.txt',\n",
       " 'sampled_tweet_ids/2022-09-12.txt',\n",
       " 'sampled_tweet_ids/2022-09-13.txt',\n",
       " 'sampled_tweet_ids/2022-09-14.txt',\n",
       " 'sampled_tweet_ids/2022-09-15.txt',\n",
       " 'sampled_tweet_ids/2022-09-16.txt',\n",
       " 'sampled_tweet_ids/2022-09-17.txt',\n",
       " 'sampled_tweet_ids/2022-09-18.txt',\n",
       " 'sampled_tweet_ids/2022-09-19.txt',\n",
       " 'sampled_tweet_ids/2022-09-20.txt',\n",
       " 'sampled_tweet_ids/2022-09-21.txt',\n",
       " 'sampled_tweet_ids/2022-09-22.txt',\n",
       " 'sampled_tweet_ids/2022-09-23.txt',\n",
       " 'sampled_tweet_ids/2022-09-24.txt',\n",
       " 'sampled_tweet_ids/2022-09-25.txt',\n",
       " 'sampled_tweet_ids/2022-09-26.txt',\n",
       " 'sampled_tweet_ids/2022-09-27.txt',\n",
       " 'sampled_tweet_ids/2022-09-28.txt',\n",
       " 'sampled_tweet_ids/2022-09-29.txt',\n",
       " 'sampled_tweet_ids/2022-09-30.txt',\n",
       " 'sampled_tweet_ids/2022-10-01.txt']"
      ]
     },
     "execution_count": 49,
     "metadata": {},
     "output_type": "execute_result"
    }
   ],
   "source": [
    "files"
   ]
  },
  {
   "cell_type": "code",
   "execution_count": 61,
   "id": "a97f3a15",
   "metadata": {},
   "outputs": [
    {
     "name": "stderr",
     "output_type": "stream",
     "text": [
      "  5%|███████▋                                                                                                                                                          | 3/63 [23:50<7:47:37, 467.62s/it]WARNING:twarc:rate limit exceeded: sleeping 124.45403909683228 secs\n",
      "WARNING:twarc:503 from Twitter API, sleeping 60\n",
      "  8%|████████████▊                                                                                                                                                     | 5/63 [40:36<7:46:56, 483.05s/it]WARNING:twarc:rate limit exceeded: sleeping 77.1534469127655 secs\n",
      " 11%|██████████████████                                                                                                                                                | 7/63 [57:00<7:31:55, 484.20s/it]WARNING:twarc:rate limit exceeded: sleeping 145.11491799354553 secs\n",
      " 13%|████████████████████▎                                                                                                                                           | 8/63 [1:06:51<7:54:54, 518.07s/it]WARNING:twarc:rate limit exceeded: sleeping 46.780603885650635 secs\n",
      " 16%|█████████████████████████▏                                                                                                                                     | 10/63 [1:25:32<7:54:30, 537.18s/it]WARNING:twarc:rate limit exceeded: sleeping 90.24660205841064 secs\n",
      " 19%|██████████████████████████████▎                                                                                                                                | 12/63 [1:41:08<7:03:05, 497.75s/it]WARNING:twarc:rate limit exceeded: sleeping 114.81637716293335 secs\n",
      " 22%|███████████████████████████████████▎                                                                                                                           | 14/63 [1:56:20<6:23:05, 469.09s/it]WARNING:twarc:rate limit exceeded: sleeping 84.99736714363098 secs\n",
      " 25%|████████████████████████████████████████▍                                                                                                                      | 16/63 [2:10:41<5:50:01, 446.84s/it]WARNING:twarc:rate limit exceeded: sleeping 109.84523892402649 secs\n",
      " 27%|██████████████████████████████████████████▉                                                                                                                    | 17/63 [2:18:49<5:52:16, 459.48s/it]WARNING:twarc:503 from Twitter API, sleeping 60\n",
      " 29%|█████████████████████████████████████████████▍                                                                                                                 | 18/63 [2:26:21<5:42:43, 456.96s/it]WARNING:twarc:rate limit exceeded: sleeping 72.92468500137329 secs\n",
      " 32%|██████████████████████████████████████████████████▍                                                                                                            | 20/63 [2:40:30<5:13:22, 437.26s/it]WARNING:twarc:rate limit exceeded: sleeping 170.61238813400269 secs\n",
      " 35%|███████████████████████████████████████████████████████▌                                                                                                       | 22/63 [2:58:18<5:28:03, 480.09s/it]WARNING:twarc:rate limit exceeded: sleeping 165.57571005821228 secs\n",
      " 37%|██████████████████████████████████████████████████████████                                                                                                     | 23/63 [3:07:47<5:37:56, 506.91s/it]WARNING:twarc:rate limit exceeded: sleeping 167.29281210899353 secs\n",
      " 40%|███████████████████████████████████████████████████████████████                                                                                                | 25/63 [3:29:00<6:02:34, 572.49s/it]WARNING:twarc:rate limit exceeded: sleeping 166.132061958313 secs\n",
      " 41%|█████████████████████████████████████████████████████████████████▌                                                                                             | 26/63 [3:39:52<6:07:36, 596.13s/it]WARNING:twarc:rate limit exceeded: sleeping 161.96676301956177 secs\n",
      " 44%|██████████████████████████████████████████████████████████████████████▋                                                                                        | 28/63 [3:56:45<5:15:28, 540.82s/it]WARNING:twarc:rate limit exceeded: sleeping 161.57294583320618 secs\n",
      " 48%|███████████████████████████████████████████████████████████████████████████▋                                                                                   | 30/63 [4:13:02<4:39:14, 507.71s/it]WARNING:twarc:rate limit exceeded: sleeping 146.994234085083 secs\n",
      " 51%|████████████████████████████████████████████████████████████████████████████████▊                                                                              | 32/63 [4:29:23<4:14:19, 492.25s/it]WARNING:twarc:rate limit exceeded: sleeping 158.39850997924805 secs\n",
      " 52%|███████████████████████████████████████████████████████████████████████████████████▎                                                                           | 33/63 [4:39:25<4:22:38, 525.27s/it]WARNING:twarc:rate limit exceeded: sleeping 149.75208497047424 secs\n",
      " 54%|█████████████████████████████████████████████████████████████████████████████████████▊                                                                         | 34/63 [4:49:06<4:21:53, 541.84s/it]WARNING:twarc:caught read timeout: HTTPSConnectionPool(host='api.twitter.com', port=443): Read timed out. (read timeout=31)\n",
      " 56%|████████████████████████████████████████████████████████████████████████████████████████▎                                                                      | 35/63 [4:56:27<3:58:45, 511.62s/it]WARNING:twarc:rate limit exceeded: sleeping 271.5852880477905 secs\n",
      " 59%|█████████████████████████████████████████████████████████████████████████████████████████████▍                                                                 | 37/63 [5:09:06<3:07:56, 433.72s/it]WARNING:twarc:rate limit exceeded: sleeping 499.69779086112976 secs\n",
      " 60%|███████████████████████████████████████████████████████████████████████████████████████████████▉                                                               | 38/63 [5:23:45<3:56:25, 567.41s/it]WARNING:twarc:rate limit exceeded: sleeping 223.1874120235443 secs\n",
      " 63%|████████████████████████████████████████████████████████████████████████████████████████████████████▉                                                          | 40/63 [5:40:45<3:21:18, 525.16s/it]WARNING:twarc:rate limit exceeded: sleeping 323.10432505607605 secs\n",
      " 65%|███████████████████████████████████████████████████████████████████████████████████████████████████████▍                                                       | 41/63 [5:52:03<3:29:24, 571.10s/it]WARNING:twarc:rate limit exceeded: sleeping 342.7936680316925 secs\n",
      " 67%|██████████████████████████████████████████████████████████████████████████████████████████████████████████                                                     | 42/63 [6:05:26<3:44:09, 640.45s/it]WARNING:twarc:rate limit exceeded: sleeping 463.5400860309601 secs\n",
      " 70%|███████████████████████████████████████████████████████████████████████████████████████████████████████████████                                                | 44/63 [6:26:45<3:15:50, 618.42s/it]WARNING:twarc:rate limit exceeded: sleeping 428.1709098815918 secs\n",
      " 71%|█████████████████████████████████████████████████████████████████████████████████████████████████████████████████▌                                             | 45/63 [6:39:38<3:19:25, 664.73s/it]WARNING:twarc:rate limit exceeded: sleeping 474.1379380226135 secs\n",
      " 73%|████████████████████████████████████████████████████████████████████████████████████████████████████████████████████                                           | 46/63 [6:53:50<3:24:14, 720.85s/it]WARNING:twarc:rate limit exceeded: sleeping 424.45912194252014 secs\n",
      " 75%|██████████████████████████████████████████████████████████████████████████████████████████████████████████████████████▌                                        | 47/63 [7:06:41<3:16:17, 736.07s/it]WARNING:twarc:rate limit exceeded: sleeping 480.4208948612213 secs\n"
     ]
    },
    {
     "name": "stderr",
     "output_type": "stream",
     "text": [
      " 78%|███████████████████████████████████████████████████████████████████████████████████████████████████████████████████████████▋                                   | 49/63 [7:24:32<2:22:34, 611.07s/it]WARNING:twarc:rate limit exceeded: sleeping 492.9425439834595 secs\n",
      " 81%|████████████████████████████████████████████████████████████████████████████████████████████████████████████████████████████████▋                              | 51/63 [7:40:22<1:43:41, 518.46s/it]WARNING:twarc:rate limit exceeded: sleeping 510.8164339065552 secs\n",
      " 83%|███████████████████████████████████████████████████████████████████████████████████████████████████████████████████████████████████▏                           | 52/63 [7:53:23<1:49:27, 597.08s/it]WARNING:twarc:rate limit exceeded: sleeping 513.3744220733643 secs\n",
      " 84%|█████████████████████████████████████████████████████████████████████████████████████████████████████████████████████████████████████▊                         | 53/63 [8:10:14<2:00:15, 721.52s/it]WARNING:twarc:rate limit exceeded: sleeping 515.9780580997467 secs\n",
      " 86%|████████████████████████████████████████████████████████████████████████████████████████████████████████████████████████████████████████▎                      | 54/63 [8:26:05<1:58:32, 790.31s/it]WARNING:twarc:rate limit exceeded: sleeping 503.5997200012207 secs\n",
      " 87%|██████████████████████████████████████████████████████████████████████████████████████████████████████████████████████████████████████████▊                    | 55/63 [8:41:03<1:49:39, 822.47s/it]WARNING:twarc:rate limit exceeded: sleeping 490.99072098731995 secs\n",
      " 89%|█████████████████████████████████████████████████████████████████████████████████████████████████████████████████████████████████████████████▎                 | 56/63 [8:54:04<1:34:30, 810.02s/it]WARNING:twarc:rate limit exceeded: sleeping 505.35624384880066 secs\n",
      " 92%|████████████████████████████████████████████████████████████████████████████████████████████████████████████████████████████████████████████████████▏            | 58/63 [9:12:13<54:20, 652.03s/it]WARNING:twarc:rate limit exceeded: sleeping 517.9158310890198 secs\n",
      " 94%|██████████████████████████████████████████████████████████████████████████████████████████████████████████████████████████████████████████████████████▊          | 59/63 [9:26:06<47:06, 706.52s/it]WARNING:twarc:rate limit exceeded: sleeping 519.9529919624329 secs\n",
      " 95%|█████████████████████████████████████████████████████████████████████████████████████████████████████████████████████████████████████████████████████████▎       | 60/63 [9:41:01<38:08, 762.94s/it]WARNING:twarc:rate limit exceeded: sleeping 513.5914978981018 secs\n",
      " 97%|███████████████████████████████████████████████████████████████████████████████████████████████████████████████████████████████████████████████████████████▉     | 61/63 [9:54:52<26:06, 783.42s/it]WARNING:twarc:rate limit exceeded: sleeping 518.9461839199066 secs\n",
      " 98%|█████████████████████████████████████████████████████████████████████████████████████████████████████████████████████████████████████████████████████████████▍  | 62/63 [10:11:12<14:02, 842.33s/it]WARNING:twarc:rate limit exceeded: sleeping 538.38210105896 secs\n",
      "100%|████████████████████████████████████████████████████████████████████████████████████████████████████████████████████████████████████████████████████████████████| 63/63 [10:26:46<00:00, 596.94s/it]\n"
     ]
    }
   ],
   "source": [
    "path = 'sampled_tweet_ids'\n",
    "for file in tqdm(files[63+62+34:]):\n",
    "    outputfile = file.split('/')[1][:-4]\n",
    "    if exists(\"sampled_tweets/\" + outputfile):\n",
    "        continue\n",
    "    hydrate(file, \"sampled_tweets/\" + outputfile)"
   ]
  },
  {
   "cell_type": "code",
   "execution_count": 43,
   "id": "987ec5c4",
   "metadata": {},
   "outputs": [],
   "source": [
    "tweets = np.load('sampled_tweets/2022-09-19.npy', allow_pickle=True).tolist()"
   ]
  },
  {
   "cell_type": "code",
   "execution_count": 45,
   "id": "4a3d6d6c",
   "metadata": {},
   "outputs": [
    {
     "data": {
      "text/plain": [
       "21671"
      ]
     },
     "execution_count": 45,
     "metadata": {},
     "output_type": "execute_result"
    }
   ],
   "source": [
    "len(tweets)"
   ]
  },
  {
   "cell_type": "code",
   "execution_count": 58,
   "id": "d9092388",
   "metadata": {},
   "outputs": [
    {
     "data": {
      "text/plain": [
       "63"
      ]
     },
     "execution_count": 58,
     "metadata": {},
     "output_type": "execute_result"
    }
   ],
   "source": [
    "30 +33"
   ]
  },
  {
   "cell_type": "code",
   "execution_count": null,
   "id": "e774c8e4",
   "metadata": {},
   "outputs": [],
   "source": []
  }
 ],
 "metadata": {
  "kernelspec": {
   "display_name": "Python 3 (ipykernel)",
   "language": "python",
   "name": "python3"
  },
  "language_info": {
   "codemirror_mode": {
    "name": "ipython",
    "version": 3
   },
   "file_extension": ".py",
   "mimetype": "text/x-python",
   "name": "python",
   "nbconvert_exporter": "python",
   "pygments_lexer": "ipython3",
   "version": "3.9.12"
  }
 },
 "nbformat": 4,
 "nbformat_minor": 5
}
