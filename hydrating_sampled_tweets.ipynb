{
 "cells": [
  {
   "cell_type": "code",
   "execution_count": 2,
   "id": "903326de",
   "metadata": {},
   "outputs": [],
   "source": [
    "import requests\n",
    "import pandas as pd\n",
    "from csv import writer\n",
    "import json\n",
    "import time\n",
    "import glob\n",
    "import os\n",
    "from pathlib import Path\n",
    "import tqdm\n",
    "from twarc import Twarc\n",
    "from nltk.tokenize import TweetTokenizer\n",
    "import numpy as np\n",
    "from random import sample\n",
    "from collections import defaultdict,OrderedDict\n",
    "from tqdm import tqdm\n",
    "from os import listdir, makedirs, remove\n",
    "from os.path import isfile, join\n",
    "\n",
    "tk = TweetTokenizer()\n",
    "tw = Twarc('asotxsa5cKuAeWjdYhZpABmN6', \\\n",
    "           'yhmMnNyE5bMx707yTcuS70NEoyFjvaPJnUCki1wHJG18XzLKYl', \\\n",
    "           '1116108383051046913-uzhQgRjVNAakb6pYKYUTCvW09donFA', \\\n",
    "           'XrHro3QvkuE0ivYXvQj9jufLDqk1EBNTcBnelXQ7hoM6P')\n",
    "path = str(Path.cwd()) + '/data/'"
   ]
  },
  {
   "cell_type": "code",
   "execution_count": 4,
   "id": "92e1a5a9",
   "metadata": {},
   "outputs": [],
   "source": [
    "fraction_we_need_to_sample = np.load(\"fraction_we_need_to_sample.npy\", allow_pickle=True).tolist()"
   ]
  },
  {
   "cell_type": "code",
   "execution_count": 5,
   "id": "847fbd12",
   "metadata": {},
   "outputs": [],
   "source": [
    "months = ['ukraine-russia-master/2022-02', 'ukraine-russia-master/2022-03', 'ukraine-russia-master/2022-04',\n",
    "         'ukraine-russia-master/2022-05', 'ukraine-russia-master/2022-06', 'ukraine-russia-master/2022-07',\n",
    "         'ukraine-russia-master/2022-08', 'ukraine-russia-master/2022-09', 'ukraine-russia-master/2022-10']"
   ]
  },
  {
   "cell_type": "code",
   "execution_count": 7,
   "id": "950ee008",
   "metadata": {},
   "outputs": [
    {
     "name": "stderr",
     "output_type": "stream",
     "text": [
      "100%|█████████████████████████████████████████████| 9/9 [02:40<00:00, 17.83s/it]\n"
     ]
    }
   ],
   "source": [
    "tweet_ids_per_day = defaultdict(list)\n",
    "for month in tqdm(months):\n",
    "    path = month\n",
    "    month_num = month[22:]\n",
    "    files = [f for f in listdir(path) if (isfile(join(path, f)))]\n",
    "    for file in files:\n",
    "        with open(join(path, file), 'r') as fp:\n",
    "            for line in fp:\n",
    "                date = file[20:-7]\n",
    "                tweet_ids_per_day[date].append(line)\n",
    "    tweet_ids_per_day_ordered = OrderedDict(sorted(tweet_ids_per_day.items()))\n",
    "    \n",
    "    tweet_ids_per_day_sampled = defaultdict(list)\n",
    "    for day, tweet_ids in (tweet_ids_per_day_ordered.items()):\n",
    "        tweet_ids_per_day_sampled[day] = sample(tweet_ids,fraction_we_need_to_sample[day])   \n",
    "    \n",
    "    np.save(\"sampled_tweet_ids/tweet_ids_per_day_sampled_\"+str(month_num)+\".npy\", tweet_ids_per_day_sampled)\n",
    "    del tweet_ids_per_day_ordered\n",
    "    del tweet_ids_per_day\n",
    "    del tweet_ids_per_day_sampled\n",
    "    tweet_ids_per_day = defaultdict(list)"
   ]
  },
  {
   "cell_type": "code",
   "execution_count": 25,
   "id": "b7f887a3",
   "metadata": {},
   "outputs": [
    {
     "name": "stderr",
     "output_type": "stream",
     "text": [
      "100%|█████████████████████████████████████████████| 9/9 [00:01<00:00,  4.96it/s]\n"
     ]
    }
   ],
   "source": [
    "\n",
    "files = [f for f in listdir(path) if (isfile(join(path, f)))]\n",
    "files.sort()\n",
    "for file in tqdm(files):\n",
    "    tweet_ids_month = np.load(join(path, file), allow_pickle=True).tolist()\n",
    "    for day, tweet_ids in tweet_ids_month.items():\n",
    "        output = file[26:-4] + \"-\" + day[3:] + \".txt\"\n",
    "        with open(os.path.join(path, output), 'w') as f:\n",
    "            for tweet_id in tweet_ids:\n",
    "                f.write(f\"{tweet_id}\\n\")"
   ]
  },
  {
   "cell_type": "code",
   "execution_count": 44,
   "id": "46114ca3",
   "metadata": {},
   "outputs": [],
   "source": [
    "import csv\n",
    "keys_and_default = {'created_at': \"NA\",\n",
    "    'id': \"NA\",\n",
    "    'id_str': \"NA\",\n",
    "    'full_text': \"NA\",\n",
    "    'truncated': \"NA\",\n",
    "    'display_text_range': \"NA\",\n",
    "    'entities': \"NA\",\n",
    "    'source': \"NA\",\n",
    "    'in_reply_to_status_id': \"NA\",\n",
    "    'in_reply_to_status_id_str': \"NA\",\n",
    "    'in_reply_to_user_id': \"NA\",\n",
    "    'in_reply_to_user_id_str': \"NA\",\n",
    "    'in_reply_to_screen_name': \"NA\",\n",
    "    'user': \"NA\",\n",
    "    'geo': \"NA\",\n",
    "    'coordinates': \"NA\",\n",
    "    'place': \"NA\",\n",
    "    'contributors': \"NA\",\n",
    "    'is_quote_status': \"NA\",\n",
    "    'quoted_status_id': \"NA\",\n",
    "    'quoted_status_id_str': \"NA\",\n",
    "    'quoted_status_permalink': \"NA\",\n",
    "    'quoted_status': \"NA\",\n",
    "    'retweet_count': \"NA\",\n",
    "    'favorite_count': \"NA\",\n",
    "    'favorited': \"NA\",\n",
    "    'retweeted': \"NA\",\n",
    "    'possibly_sensitive': \"NA\",\n",
    "    'lang': \"NA\"}\n",
    "\n",
    "def hydrate(path, file):\n",
    "    with open(file, \"w\", newline=\"\", encoding='utf-8') as outcsv:\n",
    "    \n",
    "        csvWriter = csv.DictWriter(outcsv, fieldnames=list(keys_and_default.keys()))\n",
    "        csvWriter.writeheader()\n",
    "\n",
    "        for tweet in tw.hydrate(open(path)):\n",
    "            print(tweet)\n",
    "            for key, default in keys_and_default.items():\n",
    "                if key not in tweet:\n",
    "                    tweet[key] = default\n",
    "\n",
    "            csvWriter.writerow(tweet)\n",
    "            break\n"
   ]
  },
  {
   "cell_type": "code",
   "execution_count": 45,
   "id": "a97f3a15",
   "metadata": {},
   "outputs": [
    {
     "name": "stdout",
     "output_type": "stream",
     "text": [
      "{'created_at': 'Tue Feb 22 04:50:05 +0000 2022', 'id': 1495984213631381510, 'id_str': '1495984213631381510', 'full_text': 'RT @KremlinRussia_E: \"Russia has made and is making efforts to resolve all matters peacefully.\" The Security Council held a meeting at the…', 'truncated': False, 'display_text_range': [0, 139], 'entities': {'hashtags': [], 'symbols': [], 'user_mentions': [{'screen_name': 'KremlinRussia_E', 'name': 'President of Russia', 'id': 205622130, 'id_str': '205622130', 'indices': [3, 19]}], 'urls': []}, 'source': '<a href=\"http://twitter.com/download/android\" rel=\"nofollow\">Twitter for Android</a>', 'in_reply_to_status_id': None, 'in_reply_to_status_id_str': None, 'in_reply_to_user_id': None, 'in_reply_to_user_id_str': None, 'in_reply_to_screen_name': None, 'user': {'id': 1483152195306590210, 'id_str': '1483152195306590210', 'name': 'Ulisses Assis', 'screen_name': 'Ulisses_nobrega', 'location': '', 'description': '', 'url': None, 'entities': {'description': {'urls': []}}, 'protected': False, 'followers_count': 4, 'friends_count': 113, 'listed_count': 0, 'created_at': 'Mon Jan 17 19:01:09 +0000 2022', 'favourites_count': 154, 'utc_offset': None, 'time_zone': None, 'geo_enabled': False, 'verified': False, 'statuses_count': 57, 'lang': None, 'contributors_enabled': False, 'is_translator': False, 'is_translation_enabled': False, 'profile_background_color': 'F5F8FA', 'profile_background_image_url': None, 'profile_background_image_url_https': None, 'profile_background_tile': False, 'profile_image_url': 'http://pbs.twimg.com/profile_images/1483193538045222913/w3-EZwkR_normal.jpg', 'profile_image_url_https': 'https://pbs.twimg.com/profile_images/1483193538045222913/w3-EZwkR_normal.jpg', 'profile_image_extensions_alt_text': None, 'profile_link_color': '1DA1F2', 'profile_sidebar_border_color': 'C0DEED', 'profile_sidebar_fill_color': 'DDEEF6', 'profile_text_color': '333333', 'profile_use_background_image': True, 'has_extended_profile': True, 'default_profile': True, 'default_profile_image': False, 'following': False, 'follow_request_sent': False, 'notifications': False, 'translator_type': 'none', 'withheld_in_countries': []}, 'geo': None, 'coordinates': None, 'place': None, 'contributors': None, 'retweeted_status': {'created_at': 'Mon Feb 21 16:40:51 +0000 2022', 'id': 1495800696649789457, 'id_str': '1495800696649789457', 'full_text': '\"Russia has made and is making efforts to resolve all matters peacefully.\" The Security Council held a meeting at the Kremlin https://t.co/CzbbIEf2Go https://t.co/xUpJW2i62R', 'truncated': False, 'display_text_range': [0, 149], 'entities': {'hashtags': [], 'symbols': [], 'user_mentions': [], 'urls': [{'url': 'https://t.co/CzbbIEf2Go', 'expanded_url': 'https://bit.ly/3H6PNuh', 'display_url': 'bit.ly/3H6PNuh', 'indices': [126, 149]}], 'media': [{'id': 1495798597866213384, 'id_str': '1495798597866213384', 'indices': [150, 173], 'media_url': 'http://pbs.twimg.com/media/FMIk5lFX0Ag3yGn.jpg', 'media_url_https': 'https://pbs.twimg.com/media/FMIk5lFX0Ag3yGn.jpg', 'url': 'https://t.co/xUpJW2i62R', 'display_url': 'pic.twitter.com/xUpJW2i62R', 'expanded_url': 'https://twitter.com/KremlinRussia_E/status/1495800696649789457/photo/1', 'type': 'photo', 'sizes': {'thumb': {'w': 150, 'h': 150, 'resize': 'crop'}, 'medium': {'w': 1200, 'h': 762, 'resize': 'fit'}, 'large': {'w': 2048, 'h': 1301, 'resize': 'fit'}, 'small': {'w': 680, 'h': 432, 'resize': 'fit'}}}]}, 'extended_entities': {'media': [{'id': 1495798597866213384, 'id_str': '1495798597866213384', 'indices': [150, 173], 'media_url': 'http://pbs.twimg.com/media/FMIk5lFX0Ag3yGn.jpg', 'media_url_https': 'https://pbs.twimg.com/media/FMIk5lFX0Ag3yGn.jpg', 'url': 'https://t.co/xUpJW2i62R', 'display_url': 'pic.twitter.com/xUpJW2i62R', 'expanded_url': 'https://twitter.com/KremlinRussia_E/status/1495800696649789457/photo/1', 'type': 'photo', 'sizes': {'thumb': {'w': 150, 'h': 150, 'resize': 'crop'}, 'medium': {'w': 1200, 'h': 762, 'resize': 'fit'}, 'large': {'w': 2048, 'h': 1301, 'resize': 'fit'}, 'small': {'w': 680, 'h': 432, 'resize': 'fit'}}, 'ext_alt_text': None}]}, 'source': '<a href=\"https://mobile.twitter.com\" rel=\"nofollow\">Twitter Web App</a>', 'in_reply_to_status_id': None, 'in_reply_to_status_id_str': None, 'in_reply_to_user_id': None, 'in_reply_to_user_id_str': None, 'in_reply_to_screen_name': None, 'user': {'id': 205622130, 'id_str': '205622130', 'name': 'President of Russia', 'screen_name': 'KremlinRussia_E', 'location': 'Moscow, Russian Federation', 'description': 'Official Kremlin news\\nOfficial Telegram channel: https://t.co/ASrzdwRxSU', 'url': 'https://t.co/MfmVE6eQBU', 'entities': {'url': {'urls': [{'url': 'https://t.co/MfmVE6eQBU', 'expanded_url': 'http://en.kremlin.ru/', 'display_url': 'en.kremlin.ru', 'indices': [0, 23]}]}, 'description': {'urls': [{'url': 'https://t.co/ASrzdwRxSU', 'expanded_url': 'https://t.me/news_kremlin_eng', 'display_url': 't.me/news_kremlin_e…', 'indices': [49, 72]}]}}, 'protected': False, 'followers_count': 1752479, 'friends_count': 22, 'listed_count': 7802, 'created_at': 'Thu Oct 21 08:06:17 +0000 2010', 'favourites_count': 1, 'utc_offset': None, 'time_zone': None, 'geo_enabled': False, 'verified': True, 'statuses_count': 9239, 'lang': None, 'contributors_enabled': False, 'is_translator': False, 'is_translation_enabled': False, 'profile_background_color': 'BFC0C0', 'profile_background_image_url': 'http://abs.twimg.com/images/themes/theme1/bg.png', 'profile_background_image_url_https': 'https://abs.twimg.com/images/themes/theme1/bg.png', 'profile_background_tile': False, 'profile_image_url': 'http://pbs.twimg.com/profile_images/501717583846842368/psd9aFLl_normal.png', 'profile_image_url_https': 'https://pbs.twimg.com/profile_images/501717583846842368/psd9aFLl_normal.png', 'profile_banner_url': 'https://pbs.twimg.com/profile_banners/205622130/1402044538', 'profile_image_extensions_alt_text': None, 'profile_banner_extensions_alt_text': None, 'profile_link_color': '0065B3', 'profile_sidebar_border_color': 'FFFFFF', 'profile_sidebar_fill_color': 'FFFFFF', 'profile_text_color': '333333', 'profile_use_background_image': True, 'has_extended_profile': False, 'default_profile': False, 'default_profile_image': False, 'following': False, 'follow_request_sent': False, 'notifications': False, 'translator_type': 'none', 'withheld_in_countries': []}, 'geo': None, 'coordinates': None, 'place': None, 'contributors': None, 'is_quote_status': False, 'retweet_count': 812, 'favorite_count': 4338, 'favorited': False, 'retweeted': False, 'possibly_sensitive': False, 'lang': 'en'}, 'is_quote_status': False, 'retweet_count': 812, 'favorite_count': 0, 'favorited': False, 'retweeted': False, 'lang': 'en'}\n"
     ]
    },
    {
     "ename": "ValueError",
     "evalue": "dict contains fields not in fieldnames: 'retweeted_status'",
     "output_type": "error",
     "traceback": [
      "\u001b[0;31m---------------------------------------------------------------------------\u001b[0m",
      "\u001b[0;31mValueError\u001b[0m                                Traceback (most recent call last)",
      "Input \u001b[0;32mIn [45]\u001b[0m, in \u001b[0;36m<module>\u001b[0;34m\u001b[0m\n\u001b[1;32m      1\u001b[0m path \u001b[38;5;241m=\u001b[39m \u001b[38;5;124m'\u001b[39m\u001b[38;5;124msampled_tweet_ids\u001b[39m\u001b[38;5;124m'\u001b[39m\n\u001b[0;32m----> 2\u001b[0m \u001b[43mhydrate\u001b[49m\u001b[43m(\u001b[49m\u001b[43mjoin\u001b[49m\u001b[43m(\u001b[49m\u001b[43mpath\u001b[49m\u001b[43m,\u001b[49m\u001b[43m \u001b[49m\u001b[38;5;124;43m\"\u001b[39;49m\u001b[38;5;124;43m2022-02-22.txt\u001b[39;49m\u001b[38;5;124;43m\"\u001b[39;49m\u001b[43m)\u001b[49m\u001b[43m,\u001b[49m\u001b[43m \u001b[49m\u001b[38;5;124;43m\"\u001b[39;49m\u001b[38;5;124;43msampled_tweets/2022-02-22.csv\u001b[39;49m\u001b[38;5;124;43m\"\u001b[39;49m\u001b[43m)\u001b[49m\n",
      "Input \u001b[0;32mIn [44]\u001b[0m, in \u001b[0;36mhydrate\u001b[0;34m(path, file)\u001b[0m\n\u001b[1;32m     41\u001b[0m     \u001b[38;5;28;01mif\u001b[39;00m key \u001b[38;5;129;01mnot\u001b[39;00m \u001b[38;5;129;01min\u001b[39;00m tweet:\n\u001b[1;32m     42\u001b[0m         tweet[key] \u001b[38;5;241m=\u001b[39m default\n\u001b[0;32m---> 44\u001b[0m \u001b[43mcsvWriter\u001b[49m\u001b[38;5;241;43m.\u001b[39;49m\u001b[43mwriterow\u001b[49m\u001b[43m(\u001b[49m\u001b[43mtweet\u001b[49m\u001b[43m)\u001b[49m\n\u001b[1;32m     45\u001b[0m \u001b[38;5;28;01mbreak\u001b[39;00m\n",
      "File \u001b[0;32m/opt/homebrew/Cellar/python@3.9/3.9.12/Frameworks/Python.framework/Versions/3.9/lib/python3.9/csv.py:154\u001b[0m, in \u001b[0;36mDictWriter.writerow\u001b[0;34m(self, rowdict)\u001b[0m\n\u001b[1;32m    153\u001b[0m \u001b[38;5;28;01mdef\u001b[39;00m \u001b[38;5;21mwriterow\u001b[39m(\u001b[38;5;28mself\u001b[39m, rowdict):\n\u001b[0;32m--> 154\u001b[0m     \u001b[38;5;28;01mreturn\u001b[39;00m \u001b[38;5;28mself\u001b[39m\u001b[38;5;241m.\u001b[39mwriter\u001b[38;5;241m.\u001b[39mwriterow(\u001b[38;5;28;43mself\u001b[39;49m\u001b[38;5;241;43m.\u001b[39;49m\u001b[43m_dict_to_list\u001b[49m\u001b[43m(\u001b[49m\u001b[43mrowdict\u001b[49m\u001b[43m)\u001b[49m)\n",
      "File \u001b[0;32m/opt/homebrew/Cellar/python@3.9/3.9.12/Frameworks/Python.framework/Versions/3.9/lib/python3.9/csv.py:149\u001b[0m, in \u001b[0;36mDictWriter._dict_to_list\u001b[0;34m(self, rowdict)\u001b[0m\n\u001b[1;32m    147\u001b[0m     wrong_fields \u001b[38;5;241m=\u001b[39m rowdict\u001b[38;5;241m.\u001b[39mkeys() \u001b[38;5;241m-\u001b[39m \u001b[38;5;28mself\u001b[39m\u001b[38;5;241m.\u001b[39mfieldnames\n\u001b[1;32m    148\u001b[0m     \u001b[38;5;28;01mif\u001b[39;00m wrong_fields:\n\u001b[0;32m--> 149\u001b[0m         \u001b[38;5;28;01mraise\u001b[39;00m \u001b[38;5;167;01mValueError\u001b[39;00m(\u001b[38;5;124m\"\u001b[39m\u001b[38;5;124mdict contains fields not in fieldnames: \u001b[39m\u001b[38;5;124m\"\u001b[39m\n\u001b[1;32m    150\u001b[0m                          \u001b[38;5;241m+\u001b[39m \u001b[38;5;124m\"\u001b[39m\u001b[38;5;124m, \u001b[39m\u001b[38;5;124m\"\u001b[39m\u001b[38;5;241m.\u001b[39mjoin([\u001b[38;5;28mrepr\u001b[39m(x) \u001b[38;5;28;01mfor\u001b[39;00m x \u001b[38;5;129;01min\u001b[39;00m wrong_fields]))\n\u001b[1;32m    151\u001b[0m \u001b[38;5;28;01mreturn\u001b[39;00m (rowdict\u001b[38;5;241m.\u001b[39mget(key, \u001b[38;5;28mself\u001b[39m\u001b[38;5;241m.\u001b[39mrestval) \u001b[38;5;28;01mfor\u001b[39;00m key \u001b[38;5;129;01min\u001b[39;00m \u001b[38;5;28mself\u001b[39m\u001b[38;5;241m.\u001b[39mfieldnames)\n",
      "\u001b[0;31mValueError\u001b[0m: dict contains fields not in fieldnames: 'retweeted_status'"
     ]
    }
   ],
   "source": [
    "path = 'sampled_tweet_ids'\n",
    "hydrate(join(path, \"2022-02-22.txt\"), \"sampled_tweets/2022-02-22.csv\")"
   ]
  },
  {
   "cell_type": "code",
   "execution_count": 31,
   "id": "987ec5c4",
   "metadata": {},
   "outputs": [
    {
     "data": {
      "text/plain": [
       "dict_keys(['created_at', 'id', 'id_str', 'full_text', 'truncated', 'display_text_range', 'entities', 'source', 'in_reply_to_status_id', 'in_reply_to_status_id_str', 'in_reply_to_user_id', 'in_reply_to_user_id_str', 'in_reply_to_screen_name', 'user', 'geo', 'coordinates', 'place', 'contributors', 'retweeted_status', 'is_quote_status', 'retweet_count', 'favorite_count', 'favorited', 'retweeted', 'lang'])"
      ]
     },
     "execution_count": 31,
     "metadata": {},
     "output_type": "execute_result"
    }
   ],
   "source": [
    "output.keys()"
   ]
  },
  {
   "cell_type": "code",
   "execution_count": 33,
   "id": "640996f5",
   "metadata": {},
   "outputs": [],
   "source": []
  },
  {
   "cell_type": "code",
   "execution_count": null,
   "id": "4a3d6d6c",
   "metadata": {},
   "outputs": [],
   "source": []
  }
 ],
 "metadata": {
  "kernelspec": {
   "display_name": "Python 3 (ipykernel)",
   "language": "python",
   "name": "python3"
  },
  "language_info": {
   "codemirror_mode": {
    "name": "ipython",
    "version": 3
   },
   "file_extension": ".py",
   "mimetype": "text/x-python",
   "name": "python",
   "nbconvert_exporter": "python",
   "pygments_lexer": "ipython3",
   "version": "3.9.12"
  }
 },
 "nbformat": 4,
 "nbformat_minor": 5
}
