{
 "cells": [
  {
   "cell_type": "code",
   "execution_count": 57,
   "id": "72041170",
   "metadata": {},
   "outputs": [],
   "source": [
    "from os import listdir, makedirs, remove\n",
    "from os.path import isfile, join\n",
    "from collections import defaultdict,OrderedDict\n",
    "import matplotlib.pyplot as plt\n",
    "from tqdm import tqdm\n",
    "import numpy as np"
   ]
  },
  {
   "cell_type": "code",
   "execution_count": 2,
   "id": "53939c2b",
   "metadata": {},
   "outputs": [],
   "source": [
    "months = ['ukraine-russia-master/2022-02', 'ukraine-russia-master/2022-03', 'ukraine-russia-master/2022-04',\n",
    "         'ukraine-russia-master/2022-05', 'ukraine-russia-master/2022-06', 'ukraine-russia-master/2022-07',\n",
    "         'ukraine-russia-master/2022-08', 'ukraine-russia-master/2022-09', 'ukraine-russia-master/2022-10']"
   ]
  },
  {
   "cell_type": "code",
   "execution_count": 28,
   "id": "54e6074c",
   "metadata": {},
   "outputs": [
    {
     "name": "stderr",
     "output_type": "stream",
     "text": [
      "100%|█████████████████████████████████████████████| 9/9 [00:24<00:00,  2.73s/it]\n"
     ]
    }
   ],
   "source": [
    "tweets_per_day = defaultdict(int)\n",
    "tweets_per_month = defaultdict(int)\n",
    "for month in tqdm(months):\n",
    "    path = month\n",
    "    month_num = month[22:]\n",
    "    files = [f for f in listdir(path) if (isfile(join(path, f)))]\n",
    "    for file in files:\n",
    "        with open(join(path, file), 'r') as fp:\n",
    "            date = file[20:-7]\n",
    "            x = len(fp.readlines())\n",
    "            tweets_per_day[date] += x\n",
    "            tweets_per_month[month_num] += x"
   ]
  },
  {
   "cell_type": "code",
   "execution_count": 29,
   "id": "f647e0d8",
   "metadata": {},
   "outputs": [],
   "source": [
    "tweets_per_day_ordered = OrderedDict(sorted(tweets_per_day.items()))\n",
    "tweets_per_month_ordered = OrderedDict(sorted(tweets_per_month.items()))"
   ]
  },
  {
   "cell_type": "code",
   "execution_count": 30,
   "id": "b64cc102",
   "metadata": {},
   "outputs": [
    {
     "data": {
      "text/plain": [
       "OrderedDict([('2022-02', 28908101),\n",
       "             ('2022-03', 125508593),\n",
       "             ('2022-04', 81322963),\n",
       "             ('2022-05', 58093079),\n",
       "             ('2022-06', 41015679),\n",
       "             ('2022-07', 35406947),\n",
       "             ('2022-08', 35457520),\n",
       "             ('2022-09', 46660730),\n",
       "             ('2022-10', 2114833)])"
      ]
     },
     "execution_count": 30,
     "metadata": {},
     "output_type": "execute_result"
    }
   ],
   "source": [
    "tweets_per_month_ordered"
   ]
  },
  {
   "cell_type": "code",
   "execution_count": 31,
   "id": "fde969b3",
   "metadata": {},
   "outputs": [
    {
     "data": {
      "image/png": "[encoded data removed]",
      "text/plain": [
       "<Figure size 4320x360 with 1 Axes>"
      ]
     },
     "metadata": {
      "needs_background": "light"
     },
     "output_type": "display_data"
    }
   ],
   "source": [
    "names = list(tweets_per_day_ordered.keys())\n",
    "values = list(tweets_per_day_ordered.values())\n",
    "plt.figure(figsize=(60,5))\n",
    "plt.bar(range(len(tweets_per_day_ordered)), values, tick_label=names)\n",
    "plt.xticks(rotation=90)\n",
    "plt.show()"
   ]
  },
  {
   "cell_type": "code",
   "execution_count": 34,
   "id": "a1a0cae8",
   "metadata": {},
   "outputs": [
    {
     "data": {
      "text/plain": [
       "454488445"
      ]
     },
     "execution_count": 34,
     "metadata": {},
     "output_type": "execute_result"
    }
   ],
   "source": [
    "sum(tweets_per_day_ordered.values())"
   ]
  },
  {
   "cell_type": "code",
   "execution_count": 46,
   "id": "78807501",
   "metadata": {},
   "outputs": [
    {
     "data": {
      "text/plain": [
       "OrderedDict([('02-22', 3375914),\n",
       "             ('02-23', 3960707),\n",
       "             ('02-24', 4314664),\n",
       "             ('02-25', 4315467),\n",
       "             ('02-26', 4316173),\n",
       "             ('02-27', 4309601),\n",
       "             ('02-28', 4315575),\n",
       "             ('03-01', 4312357),\n",
       "             ('03-02', 4315036),\n",
       "             ('03-03', 4311652),\n",
       "             ('03-04', 4316221),\n",
       "             ('03-05', 4318568),\n",
       "             ('03-06', 4317822),\n",
       "             ('03-07', 4310557),\n",
       "             ('03-08', 4306985),\n",
       "             ('03-09', 4310265),\n",
       "             ('03-10', 4307671),\n",
       "             ('03-11', 4296853),\n",
       "             ('03-12', 4256930),\n",
       "             ('03-13', 4184964),\n",
       "             ('03-14', 4223447),\n",
       "             ('03-15', 4255983),\n",
       "             ('03-16', 4230062),\n",
       "             ('03-17', 4245945),\n",
       "             ('03-18', 4232831),\n",
       "             ('03-19', 4053362),\n",
       "             ('03-20', 4118235),\n",
       "             ('03-21', 4174265),\n",
       "             ('03-22', 3966133),\n",
       "             ('03-23', 3768739),\n",
       "             ('03-24', 3884280),\n",
       "             ('03-25', 3792645),\n",
       "             ('03-26', 3631069),\n",
       "             ('03-27', 3733376),\n",
       "             ('03-28', 3361489),\n",
       "             ('03-29', 3355541),\n",
       "             ('03-30', 3371933),\n",
       "             ('03-31', 3243377),\n",
       "             ('04-01', 2970424),\n",
       "             ('04-02', 3075514),\n",
       "             ('04-03', 3809460),\n",
       "             ('04-04', 3839512),\n",
       "             ('04-05', 1771470),\n",
       "             ('04-06', 2977862),\n",
       "             ('04-07', 3226471),\n",
       "             ('04-08', 3246357),\n",
       "             ('04-09', 3024663),\n",
       "             ('04-10', 2859259),\n",
       "             ('04-11', 2885238),\n",
       "             ('04-12', 3114811),\n",
       "             ('04-13', 3127689),\n",
       "             ('04-14', 3013354),\n",
       "             ('04-15', 2700677),\n",
       "             ('04-16', 2461538),\n",
       "             ('04-17', 2291134),\n",
       "             ('04-18', 2525915),\n",
       "             ('04-19', 2648196),\n",
       "             ('04-20', 2560721),\n",
       "             ('04-21', 2566582),\n",
       "             ('04-22', 2399865),\n",
       "             ('04-23', 2255808),\n",
       "             ('04-24', 2330822),\n",
       "             ('04-25', 2172828),\n",
       "             ('04-26', 2331936),\n",
       "             ('04-27', 2284434),\n",
       "             ('04-28', 2596732),\n",
       "             ('04-29', 2271604),\n",
       "             ('04-30', 1982087),\n",
       "             ('05-01', 2258814),\n",
       "             ('05-02', 2425767),\n",
       "             ('05-03', 2084458),\n",
       "             ('05-04', 1991201),\n",
       "             ('05-05', 1845428),\n",
       "             ('05-06', 1731598),\n",
       "             ('05-07', 1689188),\n",
       "             ('05-08', 2088588),\n",
       "             ('05-09', 2452343),\n",
       "             ('05-10', 2192929),\n",
       "             ('05-11', 2307859),\n",
       "             ('05-12', 2231733),\n",
       "             ('05-13', 2268020),\n",
       "             ('05-14', 2250990),\n",
       "             ('05-15', 2217449),\n",
       "             ('05-16', 2047873),\n",
       "             ('05-17', 1924085),\n",
       "             ('05-18', 1833773),\n",
       "             ('05-19', 2139291),\n",
       "             ('05-20', 1790450),\n",
       "             ('05-21', 1652660),\n",
       "             ('05-22', 1544513),\n",
       "             ('05-23', 1729786),\n",
       "             ('05-24', 1717118),\n",
       "             ('05-25', 1458734),\n",
       "             ('05-26', 1442901),\n",
       "             ('05-27', 1364421),\n",
       "             ('05-28', 1334722),\n",
       "             ('05-29', 1330690),\n",
       "             ('05-30', 1363445),\n",
       "             ('05-31', 1382252),\n",
       "             ('06-01', 1456186),\n",
       "             ('06-02', 1293462),\n",
       "             ('06-03', 1373736),\n",
       "             ('06-04', 1308315),\n",
       "             ('06-05', 1460877),\n",
       "             ('06-06', 1412536),\n",
       "             ('06-07', 1229312),\n",
       "             ('06-08', 1246096),\n",
       "             ('06-09', 1335653),\n",
       "             ('06-10', 1323772),\n",
       "             ('06-11', 1273989),\n",
       "             ('06-12', 1238554),\n",
       "             ('06-13', 1311817),\n",
       "             ('06-14', 1349344),\n",
       "             ('06-15', 1395424),\n",
       "             ('06-16', 1514081),\n",
       "             ('06-17', 1466981),\n",
       "             ('06-18', 1218496),\n",
       "             ('06-19', 1090208),\n",
       "             ('06-20', 1269529),\n",
       "             ('06-21', 1357735),\n",
       "             ('06-22', 1303530),\n",
       "             ('06-23', 1399801),\n",
       "             ('06-24', 1214508),\n",
       "             ('06-25', 1025010),\n",
       "             ('06-26', 1376071),\n",
       "             ('06-27', 1621501),\n",
       "             ('06-28', 1628470),\n",
       "             ('06-29', 1728023),\n",
       "             ('06-30', 1792662),\n",
       "             ('07-01', 1446999),\n",
       "             ('07-02', 1143551),\n",
       "             ('07-03', 1180658),\n",
       "             ('07-04', 1139094),\n",
       "             ('07-05', 1186903),\n",
       "             ('07-06', 1247792),\n",
       "             ('07-07', 1302590),\n",
       "             ('07-08', 1195086),\n",
       "             ('07-09', 999310),\n",
       "             ('07-10', 1062947),\n",
       "             ('07-11', 1269587),\n",
       "             ('07-12', 1155675),\n",
       "             ('07-13', 1086547),\n",
       "             ('07-14', 1168347),\n",
       "             ('07-15', 1083523),\n",
       "             ('07-16', 908776),\n",
       "             ('07-17', 1055802),\n",
       "             ('07-18', 1104777),\n",
       "             ('07-19', 1137287),\n",
       "             ('07-20', 1177601),\n",
       "             ('07-21', 1043765),\n",
       "             ('07-22', 972392),\n",
       "             ('07-23', 1067848),\n",
       "             ('07-24', 898077),\n",
       "             ('07-25', 918901),\n",
       "             ('07-26', 960248),\n",
       "             ('07-27', 1369896),\n",
       "             ('07-28', 1331854),\n",
       "             ('07-29', 1509392),\n",
       "             ('07-30', 1180182),\n",
       "             ('07-31', 1101540),\n",
       "             ('08-01', 1127280),\n",
       "             ('08-02', 1099815),\n",
       "             ('08-03', 989153),\n",
       "             ('08-04', 1185319),\n",
       "             ('08-05', 1242205),\n",
       "             ('08-06', 1170904),\n",
       "             ('08-07', 1139871),\n",
       "             ('08-08', 1220614),\n",
       "             ('08-09', 1319969),\n",
       "             ('08-10', 1086356),\n",
       "             ('08-11', 1087664),\n",
       "             ('08-12', 1054682),\n",
       "             ('08-13', 931193),\n",
       "             ('08-14', 956502),\n",
       "             ('08-15', 1009998),\n",
       "             ('08-16', 990850),\n",
       "             ('08-17', 1002805),\n",
       "             ('08-18', 1070619),\n",
       "             ('08-19', 1066716),\n",
       "             ('08-20', 1201643),\n",
       "             ('08-21', 1248645),\n",
       "             ('08-22', 1138336),\n",
       "             ('08-23', 1285055),\n",
       "             ('08-24', 1726896),\n",
       "             ('08-25', 1324650),\n",
       "             ('08-26', 1246455),\n",
       "             ('08-27', 1092768),\n",
       "             ('08-28', 1080877),\n",
       "             ('08-29', 1107398),\n",
       "             ('08-30', 1136579),\n",
       "             ('08-31', 1115703),\n",
       "             ('09-01', 1192923),\n",
       "             ('09-02', 1153774),\n",
       "             ('09-03', 1184924),\n",
       "             ('09-04', 1187884),\n",
       "             ('09-05', 1289463),\n",
       "             ('09-06', 1215266),\n",
       "             ('09-07', 1303307),\n",
       "             ('09-08', 1327542),\n",
       "             ('09-09', 1263679),\n",
       "             ('09-10', 1693372),\n",
       "             ('09-11', 1915353),\n",
       "             ('09-12', 1675461),\n",
       "             ('09-13', 1613705),\n",
       "             ('09-14', 1679729),\n",
       "             ('09-15', 1511017),\n",
       "             ('09-16', 1433389),\n",
       "             ('09-17', 1365895),\n",
       "             ('09-18', 1231086),\n",
       "             ('09-19', 1108305),\n",
       "             ('09-20', 1403857),\n",
       "             ('09-21', 2577930),\n",
       "             ('09-22', 2199163),\n",
       "             ('09-23', 1890456),\n",
       "             ('09-24', 1502700),\n",
       "             ('09-25', 1449724),\n",
       "             ('09-26', 1544980),\n",
       "             ('09-27', 1665925),\n",
       "             ('09-28', 1895174),\n",
       "             ('09-29', 1689436),\n",
       "             ('09-30', 2495311),\n",
       "             ('10-01', 2114833)])"
      ]
     },
     "execution_count": 46,
     "metadata": {},
     "output_type": "execute_result"
    }
   ],
   "source": [
    "tweets_per_day_ordered"
   ]
  },
  {
   "cell_type": "code",
   "execution_count": 47,
   "id": "a5219fa2",
   "metadata": {},
   "outputs": [
    {
     "data": {
      "text/plain": [
       "45.4488445"
      ]
     },
     "execution_count": 47,
     "metadata": {},
     "output_type": "execute_result"
    }
   ],
   "source": [
    "454488445/10000000"
   ]
  },
  {
   "cell_type": "code",
   "execution_count": 51,
   "id": "149db990",
   "metadata": {},
   "outputs": [
    {
     "name": "stderr",
     "output_type": "stream",
     "text": [
      "100%|█████████████████████████████████████| 222/222 [00:00<00:00, 685666.78it/s]\n"
     ]
    }
   ],
   "source": [
    "total_tweets_we_need = 10000000\n",
    "fraction_we_need_to_sample = defaultdict(int)\n",
    "for day, num_tweets in tqdm(tweets_per_day_ordered.items()):\n",
    "    fraction_we_need_to_sample[day] = (num_tweets*10000000)//454488445"
   ]
  },
  {
   "cell_type": "code",
   "execution_count": 58,
   "id": "cf5cfdcc",
   "metadata": {},
   "outputs": [],
   "source": [
    "np.save(\"fraction_we_need_to_sample.npy\", fraction_we_need_to_sample)"
   ]
  },
  {
   "cell_type": "code",
   "execution_count": 59,
   "id": "e14785e6",
   "metadata": {},
   "outputs": [
    {
     "data": {
      "image/png": "[encoded data removed]",
      "text/plain": [
       "<Figure size 4320x360 with 1 Axes>"
      ]
     },
     "metadata": {
      "needs_background": "light"
     },
     "output_type": "display_data"
    }
   ],
   "source": [
    "names = list(fraction_we_need_to_sample.keys())\n",
    "values = list(fraction_we_need_to_sample.values())\n",
    "plt.figure(figsize=(60,5))\n",
    "plt.bar(range(len(fraction_we_need_to_sample)), values, tick_label=names)\n",
    "plt.xticks(rotation=90)\n",
    "plt.show()"
   ]
  },
  {
   "cell_type": "code",
   "execution_count": 33,
   "id": "83bc8f0d",
   "metadata": {},
   "outputs": [
    {
     "data": {
      "image/png": "[encoded data removed]",
      "text/plain": [
       "<Figure size 720x360 with 1 Axes>"
      ]
     },
     "metadata": {
      "needs_background": "light"
     },
     "output_type": "display_data"
    }
   ],
   "source": [
    "names = list(tweets_per_month_ordered.keys())\n",
    "values = list(tweets_per_month_ordered.values())\n",
    "plt.figure(figsize=(10,5))\n",
    "plt.bar(range(len(tweets_per_month_ordered)), values, tick_label=names)\n",
    "plt.xticks(rotation=90)\n",
    "plt.show()"
   ]
  },
  {
   "cell_type": "code",
   "execution_count": null,
   "id": "4300fe24",
   "metadata": {},
   "outputs": [],
   "source": []
  }
 ],
 "metadata": {
  "kernelspec": {
   "display_name": "Python 3 (ipykernel)",
   "language": "python",
   "name": "python3"
  },
  "language_info": {
   "codemirror_mode": {
    "name": "ipython",
    "version": 3
   },
   "file_extension": ".py",
   "mimetype": "text/x-python",
   "name": "python",
   "nbconvert_exporter": "python",
   "pygments_lexer": "ipython3",
   "version": "3.9.12"
  }
 },
 "nbformat": 4,
 "nbformat_minor": 5
}
